{
 "cells": [
  {
   "cell_type": "code",
   "execution_count": 1,
   "id": "c51d8116",
   "metadata": {},
   "outputs": [],
   "source": [
    "import pandas as pd\n"
   ]
  },
  {
   "cell_type": "code",
   "execution_count": 5,
   "id": "92e9a160",
   "metadata": {},
   "outputs": [
    {
     "ename": "TypeError",
     "evalue": "'module' object is not callable",
     "output_type": "error",
     "traceback": [
      "\u001b[1;31m---------------------------------------------------------------------------\u001b[0m",
      "\u001b[1;31mTypeError\u001b[0m                                 Traceback (most recent call last)",
      "\u001b[1;32m~\\AppData\\Local\\Temp/ipykernel_7284/1852141748.py\u001b[0m in \u001b[0;36m<module>\u001b[1;34m\u001b[0m\n\u001b[1;32m----> 1\u001b[1;33m \u001b[0mpd\u001b[0m\u001b[1;33m(\u001b[0m\u001b[1;36m1\u001b[0m\u001b[1;33m,\u001b[0m\u001b[1;36m2\u001b[0m\u001b[1;33m)\u001b[0m\u001b[1;33m\u001b[0m\u001b[1;33m\u001b[0m\u001b[0m\n\u001b[0m",
      "\u001b[1;31mTypeError\u001b[0m: 'module' object is not callable"
     ]
    }
   ],
   "source": [
    "pd(1,2)"
   ]
  },
  {
   "cell_type": "code",
   "execution_count": 7,
   "id": "f99474d0",
   "metadata": {},
   "outputs": [
    {
     "data": {
      "image/png": "[encoded data removed]",
      "text/plain": [
       "<Figure size 432x288 with 1 Axes>"
      ]
     },
     "metadata": {
      "needs_background": "light"
     },
     "output_type": "display_data"
    },
    {
     "name": "stdout",
     "output_type": "stream",
     "text": [
      "[[-8.64248228e+02 -3.52329331e+00]\n",
      " [-1.24750265e-14 -1.60823016e+00]] [-119.68783576  -18.22167606]\n"
     ]
    }
   ],
   "source": [
    "import numpy as np \n",
    "from matplotlib import pyplot as plt \n",
    "\n",
    "def qr_householder(A):\n",
    "    m, n = A.shape\n",
    "    Q = np.eye(m) # Orthogonal transform so far\n",
    "    R = A.copy() # Transformed matrix so far\n",
    "\n",
    "    for j in range(n):\n",
    "        # Find H = I - beta*u*u' to put zeros below R[j,j]\n",
    "        x = R[j:, j]\n",
    "        normx = np.linalg.norm(x)\n",
    "        rho = -np.sign(x[0])\n",
    "        u1 = x[0] - rho * normx\n",
    "        u = x / u1\n",
    "        u[0] = 1\n",
    "        beta = -rho * u1 / normx\n",
    "\n",
    "        R[j:, :] = R[j:, :] - beta * np.outer(u, u).dot(R[j:, :])\n",
    "        Q[:, j:] = Q[:, j:] - beta * Q[:, j:].dot(np.outer(u, u))\n",
    "\n",
    "    return Q, R\n",
    "\n",
    "\n",
    "\n",
    "data = np.array([[100, 20], \n",
    "        [150, 24], \n",
    "        [300, 36], \n",
    "        [400, 47], \n",
    "        [130, 22], \n",
    "        [240, 32],\n",
    "        [350, 47], \n",
    "        [200, 42], \n",
    "        [100, 21], \n",
    "        [110, 21], \n",
    "        [190, 30], \n",
    "        [120, 25], \n",
    "        [130, 18], \n",
    "        [270, 38], \n",
    "        [255, 28]])\n",
    "\n",
    "\n",
    "\n",
    "plt.scatter(data[:, 0], data[:, 1]) \n",
    "plt.title(\"Time / Distance\")\n",
    "plt.xlabel(\"Delivery Distance (meter)\")\n",
    "plt.ylabel(\"Time Consumed (minute)\")\n",
    "plt.axis([0, 420, 0, 50])\n",
    "plt.show() \n",
    "\n",
    "m, n = data.shape\n",
    "A = np.array([data[:,0], np.ones(m)]).T\n",
    "b = data[:, 1] \n",
    "\n",
    "Q, R = qr_householder(A) \n",
    "b_hat = Q.T.dot(b) \n",
    "\n",
    "R_upper = R[:n, :]\n",
    "b_upper = b_hat[:n]  \n",
    "\n",
    "print(R_upper, b_upper) \n",
    "\n",
    "x = np.linalg.solve(R_upper, b_upper) \n",
    "slope, intercept = x "
   ]
  },
  {
   "cell_type": "code",
   "execution_count": 8,
   "id": "08539e67",
   "metadata": {},
   "outputs": [
    {
     "name": "stdout",
     "output_type": "stream",
     "text": [
      "C:\\Users\\shj82\n"
     ]
    }
   ],
   "source": [
    "cd~"
   ]
  },
  {
   "cell_type": "code",
   "execution_count": 10,
   "id": "61011192",
   "metadata": {},
   "outputs": [
    {
     "ename": "NameError",
     "evalue": "name 'git' is not defined",
     "output_type": "error",
     "traceback": [
      "\u001b[1;31m---------------------------------------------------------------------------\u001b[0m",
      "\u001b[1;31mNameError\u001b[0m                                 Traceback (most recent call last)",
      "\u001b[1;32m~\\AppData\\Local\\Temp/ipykernel_7284/2736113631.py\u001b[0m in \u001b[0;36m<module>\u001b[1;34m\u001b[0m\n\u001b[1;32m----> 1\u001b[1;33m \u001b[0mgit\u001b[0m \u001b[1;33m-\u001b[0m\u001b[1;33m-\u001b[0m\u001b[0mversion\u001b[0m\u001b[1;33m\u001b[0m\u001b[1;33m\u001b[0m\u001b[0m\n\u001b[0m",
      "\u001b[1;31mNameError\u001b[0m: name 'git' is not defined"
     ]
    }
   ],
   "source": [
    "git config --g"
   ]
  },
  {
   "cell_type": "code",
   "execution_count": null,
   "id": "379786dc",
   "metadata": {},
   "outputs": [],
   "source": []
  }
 ],
 "metadata": {
  "kernelspec": {
   "display_name": "Python 3 (ipykernel)",
   "language": "python",
   "name": "python3"
  },
  "language_info": {
   "codemirror_mode": {
    "name": "ipython",
    "version": 3
   },
   "file_extension": ".py",
   "mimetype": "text/x-python",
   "name": "python",
   "nbconvert_exporter": "python",
   "pygments_lexer": "ipython3",
   "version": "3.9.7"
  }
 },
 "nbformat": 4,
 "nbformat_minor": 5
}
