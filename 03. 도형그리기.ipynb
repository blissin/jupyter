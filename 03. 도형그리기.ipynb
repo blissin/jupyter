{
 "cells": [
  {
   "cell_type": "markdown",
   "id": "27f43ae0",
   "metadata": {},
   "source": [
    "# 3. 도형그리기"
   ]
  },
  {
   "cell_type": "markdown",
   "id": "36f08236",
   "metadata": {},
   "source": [
    "## 빈 스케치북 만들기"
   ]
  },
  {
   "cell_type": "code",
   "execution_count": 4,
   "id": "e2978fd3",
   "metadata": {},
   "outputs": [],
   "source": [
    "import cv2\n",
    "import numpy as np\n",
    "\n",
    "#세로 480 X 가로 640, 3Channel [RGB] 에 해당하는 스케치북 만들기\n",
    "img = np.zeros((480,640,3), dtype=np.uint8)\n",
    "# img[:] = (0,255,255) #B G R\n",
    "# print(img)\n",
    "cv2.imshow('img', img)\n",
    "cv2.waitKey(0)\n",
    "cv2.destroyAllWindows()"
   ]
  },
  {
   "cell_type": "markdown",
   "id": "cb303138",
   "metadata": {},
   "source": [
    "## 일부 영역 색칠"
   ]
  },
  {
   "cell_type": "code",
   "execution_count": 6,
   "id": "889ef3f4",
   "metadata": {},
   "outputs": [],
   "source": [
    "import cv2\n",
    "import numpy as np\n",
    "\n",
    "img = np.zeros((480,640,3), dtype=np.uint8)\n",
    "img[100:200,200:300]=(255,255,255)\n",
    "# print(img)\n",
    "\n",
    "cv2.imshow('img', img)\n",
    "cv2.waitKey(0)\n",
    "cv2.destroyAllWindows()"
   ]
  },
  {
   "cell_type": "markdown",
   "id": "877e73d5",
   "metadata": {},
   "source": [
    "## 직선\n",
    "직선의 종류 (line type)\n",
    "1. cv2.LINE_4 : 상하좌우 4 방향으로 연결된 선\n",
    "2. cv2.LINE_8 : 대각선 포함 8 방향 선 (default)\n",
    "3. cv2.LINE_AA : 부드러운 선 (anti-aliasing)"
   ]
  },
  {
   "cell_type": "code",
   "execution_count": 11,
   "id": "4c187cf8",
   "metadata": {},
   "outputs": [],
   "source": [
    "import cv2\n",
    "import numpy as np\n",
    "\n",
    "img = np.zeros((480,640,3), dtype=np.uint8)\n",
    "\n",
    "COLOR = (0, 255, 255) \n",
    "THICKNESS = 3 #두께\n",
    "\n",
    "cv2.line(img, (50,100),(400,50), COLOR, THICKNESS, cv2.LINE_8) # 위치 , 시작 점 ,끝점, 색깔, 두께 ,선 종류\n",
    "cv2.line(img, (50,200),(400,150), COLOR, THICKNESS, cv2.LINE_4)\n",
    "cv2.line(img, (50,300),(400,250), COLOR, THICKNESS, cv2.LINE_AA)\n",
    "\n",
    "cv2.imshow('img',img)\n",
    "cv2.waitKey(0)\n",
    "cv2.destroyAllWindows()"
   ]
  },
  {
   "cell_type": "markdown",
   "id": "847ac55d",
   "metadata": {},
   "source": [
    "## 원"
   ]
  },
  {
   "cell_type": "code",
   "execution_count": 13,
   "id": "d1381803",
   "metadata": {},
   "outputs": [],
   "source": [
    "import cv2\n",
    "import numpy as np\n",
    "\n",
    "img = np.zeros((480,640,3), dtype=np.uint8)\n",
    "\n",
    "COLOR = (0, 255, 255) \n",
    "RADIUS = 50 # 반지름\n",
    "THICKNESS = 3 #두께\n",
    "\n",
    "cv2.circle(img,(200,100), RADIUS, COLOR, THICKNESS, cv2.LINE_AA) # 위치 , 중심점, 반지름, 색깔, 두께 ,선 종류\n",
    "cv2.circle(img,(400,100), RADIUS, COLOR, cv2.FILLED, cv2.LINE_AA) # 꽉 찬 원\n",
    "\n",
    "cv2.imshow('img',img)\n",
    "cv2.waitKey(0)\n",
    "cv2.destroyAllWindows()"
   ]
  },
  {
   "cell_type": "code",
   "execution_count": null,
   "id": "ebccbd17",
   "metadata": {},
   "outputs": [],
   "source": []
  }
 ],
 "metadata": {
  "kernelspec": {
   "display_name": "Python 3",
   "language": "python",
   "name": "python3"
  },
  "language_info": {
   "codemirror_mode": {
    "name": "ipython",
    "version": 3
   },
   "file_extension": ".py",
   "mimetype": "text/x-python",
   "name": "python",
   "nbconvert_exporter": "python",
   "pygments_lexer": "ipython3",
   "version": "3.8.8"
  }
 },
 "nbformat": 4,
 "nbformat_minor": 5
}
